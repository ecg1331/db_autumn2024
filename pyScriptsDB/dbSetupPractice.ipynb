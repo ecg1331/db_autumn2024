{
 "cells": [
  {
   "cell_type": "code",
   "execution_count": 99,
   "metadata": {},
   "outputs": [],
   "source": [
    "import pandas as pd\n",
    "import mysql.connector\n",
    "from datetime import datetime"
   ]
  },
  {
   "cell_type": "code",
   "execution_count": 4,
   "metadata": {},
   "outputs": [
    {
     "data": {
      "text/html": [
       "<div>\n",
       "<style scoped>\n",
       "    .dataframe tbody tr th:only-of-type {\n",
       "        vertical-align: middle;\n",
       "    }\n",
       "\n",
       "    .dataframe tbody tr th {\n",
       "        vertical-align: top;\n",
       "    }\n",
       "\n",
       "    .dataframe thead th {\n",
       "        text-align: right;\n",
       "    }\n",
       "</style>\n",
       "<table border=\"1\" class=\"dataframe\">\n",
       "  <thead>\n",
       "    <tr style=\"text-align: right;\">\n",
       "      <th></th>\n",
       "      <th>MenuItemSkew</th>\n",
       "      <th>Item Name</th>\n",
       "      <th>Category</th>\n",
       "      <th>Price</th>\n",
       "    </tr>\n",
       "  </thead>\n",
       "  <tbody>\n",
       "    <tr>\n",
       "      <th>0</th>\n",
       "      <td>100</td>\n",
       "      <td>Plein Continental Breakfast</td>\n",
       "      <td>Breakfast</td>\n",
       "      <td>11.50</td>\n",
       "    </tr>\n",
       "    <tr>\n",
       "      <th>1</th>\n",
       "      <td>101</td>\n",
       "      <td>Breakfast Croissant Sandwich</td>\n",
       "      <td>Breakfast</td>\n",
       "      <td>10.95</td>\n",
       "    </tr>\n",
       "    <tr>\n",
       "      <th>2</th>\n",
       "      <td>102</td>\n",
       "      <td>House Made Biscuit Sandwich</td>\n",
       "      <td>Breakfast</td>\n",
       "      <td>11.95</td>\n",
       "    </tr>\n",
       "    <tr>\n",
       "      <th>3</th>\n",
       "      <td>103</td>\n",
       "      <td>Plein Omelet</td>\n",
       "      <td>Breakfast</td>\n",
       "      <td>11.95</td>\n",
       "    </tr>\n",
       "    <tr>\n",
       "      <th>4</th>\n",
       "      <td>104</td>\n",
       "      <td>Two Eggs Any Style</td>\n",
       "      <td>Breakfast</td>\n",
       "      <td>11.95</td>\n",
       "    </tr>\n",
       "    <tr>\n",
       "      <th>5</th>\n",
       "      <td>105</td>\n",
       "      <td>Mascarpone Stuffed Brioche French Toast</td>\n",
       "      <td>Breakfast</td>\n",
       "      <td>9.95</td>\n",
       "    </tr>\n",
       "    <tr>\n",
       "      <th>6</th>\n",
       "      <td>106</td>\n",
       "      <td>Veggie Burrito</td>\n",
       "      <td>Breakfast</td>\n",
       "      <td>13.75</td>\n",
       "    </tr>\n",
       "    <tr>\n",
       "      <th>7</th>\n",
       "      <td>107</td>\n",
       "      <td>Chorizo Burrito</td>\n",
       "      <td>Breakfast</td>\n",
       "      <td>13.75</td>\n",
       "    </tr>\n",
       "    <tr>\n",
       "      <th>8</th>\n",
       "      <td>108</td>\n",
       "      <td>Vegan Chicken Baguette</td>\n",
       "      <td>Salads, Sandwiches &amp; Baguettes</td>\n",
       "      <td>14.95</td>\n",
       "    </tr>\n",
       "    <tr>\n",
       "      <th>9</th>\n",
       "      <td>109</td>\n",
       "      <td>Chef Salad</td>\n",
       "      <td>Salads, Sandwiches &amp; Baguettes</td>\n",
       "      <td>11.95</td>\n",
       "    </tr>\n",
       "    <tr>\n",
       "      <th>10</th>\n",
       "      <td>110</td>\n",
       "      <td>Kale &amp; Romaine Salad</td>\n",
       "      <td>Salads, Sandwiches &amp; Baguettes</td>\n",
       "      <td>11.95</td>\n",
       "    </tr>\n",
       "    <tr>\n",
       "      <th>11</th>\n",
       "      <td>111</td>\n",
       "      <td>Tomato Avocado Salad</td>\n",
       "      <td>Salads, Sandwiches &amp; Baguettes</td>\n",
       "      <td>11.95</td>\n",
       "    </tr>\n",
       "    <tr>\n",
       "      <th>12</th>\n",
       "      <td>112</td>\n",
       "      <td>Ham &amp; Swiss Baguette</td>\n",
       "      <td>Salads, Sandwiches &amp; Baguettes</td>\n",
       "      <td>8.95</td>\n",
       "    </tr>\n",
       "    <tr>\n",
       "      <th>13</th>\n",
       "      <td>113</td>\n",
       "      <td>Prosciutto &amp; Manchego Baguette</td>\n",
       "      <td>Salads, Sandwiches &amp; Baguettes</td>\n",
       "      <td>10.50</td>\n",
       "    </tr>\n",
       "    <tr>\n",
       "      <th>14</th>\n",
       "      <td>114</td>\n",
       "      <td>Goat Cheese &amp; Sweet Pepper Baguette</td>\n",
       "      <td>Salads, Sandwiches &amp; Baguettes</td>\n",
       "      <td>10.50</td>\n",
       "    </tr>\n",
       "    <tr>\n",
       "      <th>15</th>\n",
       "      <td>115</td>\n",
       "      <td>Smoked Turkey Sandwich</td>\n",
       "      <td>Salads, Sandwiches &amp; Baguettes</td>\n",
       "      <td>10.50</td>\n",
       "    </tr>\n",
       "    <tr>\n",
       "      <th>16</th>\n",
       "      <td>116</td>\n",
       "      <td>Tuna Salad Sandwich</td>\n",
       "      <td>Salads, Sandwiches &amp; Baguettes</td>\n",
       "      <td>11.25</td>\n",
       "    </tr>\n",
       "    <tr>\n",
       "      <th>17</th>\n",
       "      <td>117</td>\n",
       "      <td>Brioche Grilled Cheese</td>\n",
       "      <td>Salads, Sandwiches &amp; Baguettes</td>\n",
       "      <td>10.95</td>\n",
       "    </tr>\n",
       "    <tr>\n",
       "      <th>18</th>\n",
       "      <td>118</td>\n",
       "      <td>Roasted Chicken Poblano</td>\n",
       "      <td>Salads, Sandwiches &amp; Baguettes</td>\n",
       "      <td>12.50</td>\n",
       "    </tr>\n",
       "    <tr>\n",
       "      <th>19</th>\n",
       "      <td>119</td>\n",
       "      <td>Chipotle Chicken Club</td>\n",
       "      <td>Salads, Sandwiches &amp; Baguettes</td>\n",
       "      <td>14.50</td>\n",
       "    </tr>\n",
       "    <tr>\n",
       "      <th>20</th>\n",
       "      <td>120</td>\n",
       "      <td>Vegetarian Chipotle Club</td>\n",
       "      <td>Salads, Sandwiches &amp; Baguettes</td>\n",
       "      <td>11.95</td>\n",
       "    </tr>\n",
       "    <tr>\n",
       "      <th>21</th>\n",
       "      <td>121</td>\n",
       "      <td>Plein Grain Bowl</td>\n",
       "      <td>Tartines &amp; Plein Bowls</td>\n",
       "      <td>9.50</td>\n",
       "    </tr>\n",
       "    <tr>\n",
       "      <th>22</th>\n",
       "      <td>122</td>\n",
       "      <td>Jalapeno Chicken Bowl</td>\n",
       "      <td>Tartines &amp; Plein Bowls</td>\n",
       "      <td>11.50</td>\n",
       "    </tr>\n",
       "    <tr>\n",
       "      <th>23</th>\n",
       "      <td>123</td>\n",
       "      <td>Al Pastor Bowl</td>\n",
       "      <td>Tartines &amp; Plein Bowls</td>\n",
       "      <td>11.50</td>\n",
       "    </tr>\n",
       "    <tr>\n",
       "      <th>24</th>\n",
       "      <td>124</td>\n",
       "      <td>Roasted Root Vegetables Tartine</td>\n",
       "      <td>Tartines &amp; Plein Bowls</td>\n",
       "      <td>9.50</td>\n",
       "    </tr>\n",
       "    <tr>\n",
       "      <th>25</th>\n",
       "      <td>125</td>\n",
       "      <td>Savory Meatloaf Tartine</td>\n",
       "      <td>Tartines &amp; Plein Bowls</td>\n",
       "      <td>10.50</td>\n",
       "    </tr>\n",
       "  </tbody>\n",
       "</table>\n",
       "</div>"
      ],
      "text/plain": [
       "    MenuItemSkew                                Item Name  \\\n",
       "0            100              Plein Continental Breakfast   \n",
       "1            101             Breakfast Croissant Sandwich   \n",
       "2            102              House Made Biscuit Sandwich   \n",
       "3            103                             Plein Omelet   \n",
       "4            104                       Two Eggs Any Style   \n",
       "5            105  Mascarpone Stuffed Brioche French Toast   \n",
       "6            106                           Veggie Burrito   \n",
       "7            107                          Chorizo Burrito   \n",
       "8            108                   Vegan Chicken Baguette   \n",
       "9            109                               Chef Salad   \n",
       "10           110                     Kale & Romaine Salad   \n",
       "11           111                     Tomato Avocado Salad   \n",
       "12           112                     Ham & Swiss Baguette   \n",
       "13           113           Prosciutto & Manchego Baguette   \n",
       "14           114      Goat Cheese & Sweet Pepper Baguette   \n",
       "15           115                   Smoked Turkey Sandwich   \n",
       "16           116                      Tuna Salad Sandwich   \n",
       "17           117                   Brioche Grilled Cheese   \n",
       "18           118                  Roasted Chicken Poblano   \n",
       "19           119                    Chipotle Chicken Club   \n",
       "20           120                 Vegetarian Chipotle Club   \n",
       "21           121                         Plein Grain Bowl   \n",
       "22           122                    Jalapeno Chicken Bowl   \n",
       "23           123                           Al Pastor Bowl   \n",
       "24           124          Roasted Root Vegetables Tartine   \n",
       "25           125                  Savory Meatloaf Tartine   \n",
       "\n",
       "                          Category  Price  \n",
       "0                        Breakfast  11.50  \n",
       "1                        Breakfast  10.95  \n",
       "2                        Breakfast  11.95  \n",
       "3                        Breakfast  11.95  \n",
       "4                        Breakfast  11.95  \n",
       "5                        Breakfast   9.95  \n",
       "6                        Breakfast  13.75  \n",
       "7                        Breakfast  13.75  \n",
       "8   Salads, Sandwiches & Baguettes  14.95  \n",
       "9   Salads, Sandwiches & Baguettes  11.95  \n",
       "10  Salads, Sandwiches & Baguettes  11.95  \n",
       "11  Salads, Sandwiches & Baguettes  11.95  \n",
       "12  Salads, Sandwiches & Baguettes   8.95  \n",
       "13  Salads, Sandwiches & Baguettes  10.50  \n",
       "14  Salads, Sandwiches & Baguettes  10.50  \n",
       "15  Salads, Sandwiches & Baguettes  10.50  \n",
       "16  Salads, Sandwiches & Baguettes  11.25  \n",
       "17  Salads, Sandwiches & Baguettes  10.95  \n",
       "18  Salads, Sandwiches & Baguettes  12.50  \n",
       "19  Salads, Sandwiches & Baguettes  14.50  \n",
       "20  Salads, Sandwiches & Baguettes  11.95  \n",
       "21          Tartines & Plein Bowls   9.50  \n",
       "22          Tartines & Plein Bowls  11.50  \n",
       "23          Tartines & Plein Bowls  11.50  \n",
       "24          Tartines & Plein Bowls   9.50  \n",
       "25          Tartines & Plein Bowls  10.50  "
      ]
     },
     "execution_count": 4,
     "metadata": {},
     "output_type": "execute_result"
    }
   ],
   "source": [
    "menu_csv = pd.read_csv(\"/Users/emma/Desktop/database/final/tables/menu_items_table.csv\", index_col=False)\n",
    "menu_csv\n"
   ]
  },
  {
   "cell_type": "code",
   "execution_count": 7,
   "metadata": {},
   "outputs": [
    {
     "name": "stdout",
     "output_type": "stream",
     "text": [
      "max len item name: 39\n",
      "max cat name: 30\n"
     ]
    }
   ],
   "source": [
    "print(\"max len item name:\", menu_csv['Item Name'].str.len().max())\n",
    "print(\"max cat name:\",  menu_csv['Category'].str.len().max())"
   ]
  },
  {
   "cell_type": "code",
   "execution_count": 85,
   "metadata": {},
   "outputs": [
    {
     "name": "stdout",
     "output_type": "stream",
     "text": [
      "<mysql.connector.connection.MySQLConnection object at 0x11df94d10>\n"
     ]
    }
   ],
   "source": [
    "conn = mysql.connector.connect(user = 'root',\n",
    "                               password = 'Mori1331!',\n",
    "                               host = 'localhost',\n",
    "                               )\n",
    "print(conn)\n",
    "curr = conn.cursor()"
   ]
  },
  {
   "cell_type": "code",
   "execution_count": 86,
   "metadata": {},
   "outputs": [
    {
     "name": "stdout",
     "output_type": "stream",
     "text": [
      "Database created successfully\n"
     ]
    }
   ],
   "source": [
    "try:\n",
    "    curr.execute(\"CREATE DATABASE MyCoffeeShop;\")\n",
    "    print(\"Database created successfully\")\n",
    "except Exception as e:\n",
    "    print(f\"Error creating database: {e}\")"
   ]
  },
  {
   "cell_type": "markdown",
   "metadata": {},
   "source": [
    "# TABLES"
   ]
  },
  {
   "cell_type": "code",
   "execution_count": 87,
   "metadata": {},
   "outputs": [],
   "source": [
    "curr.execute(\"USE MyCoffeeShop;\")"
   ]
  },
  {
   "cell_type": "code",
   "execution_count": 13,
   "metadata": {},
   "outputs": [],
   "source": [
    "\n",
    "\n",
    "menu_query = \"\"\"\n",
    "    CREATE TABLE Menu (\n",
    "        MenuItemSkew INT    NOT NULL,\n",
    "        ItemName    VARCHAR(45),\n",
    "        Category    VARCHAR(35),\n",
    "        Price       DECIMAL(4, 2),\n",
    "        PRIMARY KEY (MenuItemSkew)\n",
    "        );\n",
    "        \"\"\"\n",
    "\n",
    "curr.execute(menu_query)"
   ]
  },
  {
   "cell_type": "code",
   "execution_count": 17,
   "metadata": {},
   "outputs": [
    {
     "data": {
      "text/plain": [
       "24"
      ]
     },
     "execution_count": 17,
     "metadata": {},
     "output_type": "execute_result"
    }
   ],
   "source": [
    "ingredients = pd.read_csv(\"/Users/emma/Desktop/database/final/tables/ingredients_table.csv\")\n",
    "ingredients[\"Ingredient\"].str.len().max()"
   ]
  },
  {
   "cell_type": "code",
   "execution_count": 24,
   "metadata": {},
   "outputs": [],
   "source": [
    "ingredient_table = \"\"\"\n",
    "    CREATE TABLE Ingredients (\n",
    "        IngredientSkew      INT    NOT NULL,\n",
    "        IngredientName      VARCHAR(30),\n",
    "        PRIMARY KEY (IngredientSkew)\n",
    "        );\n",
    "        \"\"\"\n",
    "curr.execute(ingredient_table)"
   ]
  },
  {
   "cell_type": "code",
   "execution_count": 25,
   "metadata": {},
   "outputs": [],
   "source": [
    "recipe_table = \"\"\"\n",
    "    CREATE TABLE Recipes (\n",
    "        MenuItemSkew INT NOT NULL,\n",
    "        IngredientSkew INT NOT NULL,\n",
    "        PRIMARY KEY (MenuItemSkew, IngredientSkew),\n",
    "        FOREIGN KEY (MenuItemSkew) REFERENCES Menu(MenuItemSkew)\n",
    "            ON DELETE CASCADE\n",
    "            ON UPDATE CASCADE,\n",
    "        FOREIGN KEY (IngredientSkew) REFERENCES Ingredients(IngredientSkew)\n",
    "            ON DELETE CASCADE\n",
    "            ON UPDATE CASCADE\n",
    "    );\n",
    "    \"\"\"\n",
    "curr.execute(recipe_table)"
   ]
  },
  {
   "cell_type": "markdown",
   "metadata": {},
   "source": [
    "# books"
   ]
  },
  {
   "cell_type": "code",
   "execution_count": 78,
   "metadata": {},
   "outputs": [],
   "source": [
    "books = pd.read_csv(\"/Users/emma/Desktop/database/final/tables/books.csv\")"
   ]
  },
  {
   "cell_type": "code",
   "execution_count": 79,
   "metadata": {},
   "outputs": [
    {
     "data": {
      "text/html": [
       "<div>\n",
       "<style scoped>\n",
       "    .dataframe tbody tr th:only-of-type {\n",
       "        vertical-align: middle;\n",
       "    }\n",
       "\n",
       "    .dataframe tbody tr th {\n",
       "        vertical-align: top;\n",
       "    }\n",
       "\n",
       "    .dataframe thead th {\n",
       "        text-align: right;\n",
       "    }\n",
       "</style>\n",
       "<table border=\"1\" class=\"dataframe\">\n",
       "  <thead>\n",
       "    <tr style=\"text-align: right;\">\n",
       "      <th></th>\n",
       "      <th>isbn</th>\n",
       "      <th>Title</th>\n",
       "      <th>Author</th>\n",
       "      <th>num_pages</th>\n",
       "      <th>publication_date</th>\n",
       "      <th>publisher</th>\n",
       "      <th>genres</th>\n",
       "    </tr>\n",
       "  </thead>\n",
       "  <tbody>\n",
       "    <tr>\n",
       "      <th>0</th>\n",
       "      <td>0764585746</td>\n",
       "      <td>Shakespeare's Romeo and Juliet</td>\n",
       "      <td>William Shakespeare</td>\n",
       "      <td>231</td>\n",
       "      <td>5/8/2000</td>\n",
       "      <td>Hungry Minds</td>\n",
       "      <td>Classics</td>\n",
       "    </tr>\n",
       "    <tr>\n",
       "      <th>1</th>\n",
       "      <td>1421808323</td>\n",
       "      <td>Nineteen Eighty-Four</td>\n",
       "      <td>George Orwell</td>\n",
       "      <td>387</td>\n",
       "      <td>7/1/2005</td>\n",
       "      <td>1st World Library</td>\n",
       "      <td>Classics</td>\n",
       "    </tr>\n",
       "    <tr>\n",
       "      <th>2</th>\n",
       "      <td>0812969707</td>\n",
       "      <td>A War Like No Other: How the Athenians &amp; Spart...</td>\n",
       "      <td>Victor Davis Hanson</td>\n",
       "      <td>397</td>\n",
       "      <td>9/12/2006</td>\n",
       "      <td>Random House</td>\n",
       "      <td>History</td>\n",
       "    </tr>\n",
       "    <tr>\n",
       "      <th>3</th>\n",
       "      <td>0743484185</td>\n",
       "      <td>Easy Prey (Lucas Davenport  #11)</td>\n",
       "      <td>John Sandford</td>\n",
       "      <td>480</td>\n",
       "      <td>6/1/2004</td>\n",
       "      <td>Simon &amp; Schuster</td>\n",
       "      <td>Mystery</td>\n",
       "    </tr>\n",
       "    <tr>\n",
       "      <th>4</th>\n",
       "      <td>0571219764</td>\n",
       "      <td>Self</td>\n",
       "      <td>Yann Martel</td>\n",
       "      <td>331</td>\n",
       "      <td>4/7/2003</td>\n",
       "      <td>Faber  Faber</td>\n",
       "      <td>Fiction</td>\n",
       "    </tr>\n",
       "    <tr>\n",
       "      <th>...</th>\n",
       "      <td>...</td>\n",
       "      <td>...</td>\n",
       "      <td>...</td>\n",
       "      <td>...</td>\n",
       "      <td>...</td>\n",
       "      <td>...</td>\n",
       "      <td>...</td>\n",
       "    </tr>\n",
       "    <tr>\n",
       "      <th>2995</th>\n",
       "      <td>0321365208</td>\n",
       "      <td>Essentials of American and Texas Government: C...</td>\n",
       "      <td>Karen  O'Connor</td>\n",
       "      <td>854</td>\n",
       "      <td>7/29/2005</td>\n",
       "      <td>Longman Publishing Group</td>\n",
       "      <td>NaN</td>\n",
       "    </tr>\n",
       "    <tr>\n",
       "      <th>2996</th>\n",
       "      <td>1572705647</td>\n",
       "      <td>Hickory Dickory Dock (Hercule Poirot  #32)</td>\n",
       "      <td>Agatha Christie</td>\n",
       "      <td>196</td>\n",
       "      <td>12/7/2006</td>\n",
       "      <td>AudioGO</td>\n",
       "      <td>Mystery</td>\n",
       "    </tr>\n",
       "    <tr>\n",
       "      <th>2997</th>\n",
       "      <td>1888472405</td>\n",
       "      <td>The Life and Times of Scrooge McDuck Companion</td>\n",
       "      <td>Don Rosa</td>\n",
       "      <td>208</td>\n",
       "      <td>9/19/2006</td>\n",
       "      <td>Gemstone Publishing</td>\n",
       "      <td>Sequential Art,Comics</td>\n",
       "    </tr>\n",
       "    <tr>\n",
       "      <th>2998</th>\n",
       "      <td>0486451402</td>\n",
       "      <td>Quicksand</td>\n",
       "      <td>Nella Larsen</td>\n",
       "      <td>125</td>\n",
       "      <td>9/15/2006</td>\n",
       "      <td>Dover Publications</td>\n",
       "      <td>Fiction</td>\n",
       "    </tr>\n",
       "    <tr>\n",
       "      <th>2999</th>\n",
       "      <td>1585672777</td>\n",
       "      <td>Lord Emsworth and Others (Blandings Castle  #5.5)</td>\n",
       "      <td>P.G. Wodehouse</td>\n",
       "      <td>268</td>\n",
       "      <td>5/13/2002</td>\n",
       "      <td>The Overlook Press</td>\n",
       "      <td>Humor</td>\n",
       "    </tr>\n",
       "  </tbody>\n",
       "</table>\n",
       "<p>3000 rows × 7 columns</p>\n",
       "</div>"
      ],
      "text/plain": [
       "            isbn                                              Title  \\\n",
       "0     0764585746                     Shakespeare's Romeo and Juliet   \n",
       "1     1421808323                               Nineteen Eighty-Four   \n",
       "2     0812969707  A War Like No Other: How the Athenians & Spart...   \n",
       "3     0743484185                   Easy Prey (Lucas Davenport  #11)   \n",
       "4     0571219764                                               Self   \n",
       "...          ...                                                ...   \n",
       "2995  0321365208  Essentials of American and Texas Government: C...   \n",
       "2996  1572705647         Hickory Dickory Dock (Hercule Poirot  #32)   \n",
       "2997  1888472405     The Life and Times of Scrooge McDuck Companion   \n",
       "2998  0486451402                                          Quicksand   \n",
       "2999  1585672777  Lord Emsworth and Others (Blandings Castle  #5.5)   \n",
       "\n",
       "                   Author  num_pages publication_date  \\\n",
       "0     William Shakespeare        231         5/8/2000   \n",
       "1           George Orwell        387         7/1/2005   \n",
       "2     Victor Davis Hanson        397        9/12/2006   \n",
       "3           John Sandford        480         6/1/2004   \n",
       "4             Yann Martel        331         4/7/2003   \n",
       "...                   ...        ...              ...   \n",
       "2995      Karen  O'Connor        854        7/29/2005   \n",
       "2996      Agatha Christie        196        12/7/2006   \n",
       "2997             Don Rosa        208        9/19/2006   \n",
       "2998         Nella Larsen        125        9/15/2006   \n",
       "2999       P.G. Wodehouse        268        5/13/2002   \n",
       "\n",
       "                     publisher                 genres  \n",
       "0                 Hungry Minds               Classics  \n",
       "1            1st World Library               Classics  \n",
       "2                 Random House                History  \n",
       "3             Simon & Schuster                Mystery  \n",
       "4                 Faber  Faber                Fiction  \n",
       "...                        ...                    ...  \n",
       "2995  Longman Publishing Group                    NaN  \n",
       "2996                   AudioGO                Mystery  \n",
       "2997       Gemstone Publishing  Sequential Art,Comics  \n",
       "2998        Dover Publications                Fiction  \n",
       "2999        The Overlook Press                  Humor  \n",
       "\n",
       "[3000 rows x 7 columns]"
      ]
     },
     "execution_count": 79,
     "metadata": {},
     "output_type": "execute_result"
    }
   ],
   "source": [
    "books"
   ]
  },
  {
   "cell_type": "code",
   "execution_count": 106,
   "metadata": {},
   "outputs": [
    {
     "data": {
      "text/plain": [
       "isbn                object\n",
       "Title               object\n",
       "Author              object\n",
       "num_pages            int64\n",
       "publication_date    object\n",
       "publisher           object\n",
       "genres              object\n",
       "dtype: object"
      ]
     },
     "execution_count": 106,
     "metadata": {},
     "output_type": "execute_result"
    }
   ],
   "source": [
    "books.dtypes"
   ]
  },
  {
   "cell_type": "code",
   "execution_count": 105,
   "metadata": {},
   "outputs": [
    {
     "name": "stdout",
     "output_type": "stream",
     "text": [
      "ibsn string len: 10\n",
      "title string len: 202\n",
      "author string len: 29\n",
      "pub string len: 67\n",
      "genre string len: 38.0\n"
     ]
    }
   ],
   "source": [
    "print(\"ibsn string len:\", books['isbn'].str.len().max())\n",
    "print(\"title string len:\", books['Title'].str.len().max())\n",
    "print(\"author string len:\", books['Author'].str.len().max())\n",
    "print(\"pub string len:\", books['publisher'].str.len().max())\n",
    "print(\"genre string len:\", books['genres'].str.len().max())"
   ]
  },
  {
   "cell_type": "code",
   "execution_count": 96,
   "metadata": {},
   "outputs": [
    {
     "data": {
      "text/plain": [
       "Index(['isbn', 'Title', 'Author', 'num_pages', 'publication_date', 'publisher',\n",
       "       'genres'],\n",
       "      dtype='object')"
      ]
     },
     "execution_count": 96,
     "metadata": {},
     "output_type": "execute_result"
    }
   ],
   "source": [
    "books.columns"
   ]
  },
  {
   "cell_type": "code",
   "execution_count": 108,
   "metadata": {},
   "outputs": [],
   "source": [
    "books_table = \"\"\"\n",
    "CREATE TABLE Books (\n",
    "    ISBN            VARCHAR(10)     NOT NULL,\n",
    "    Title           TEXT,\n",
    "    Author          VARCHAR(35),\n",
    "    NumPages        INT,\n",
    "    Publishing_Date DATE,\n",
    "    Publisher       VARCHAR(75),\n",
    "    Genre          VARCHAR(40),\n",
    "    PRIMARY KEY (ISBN)\n",
    ");\n",
    "\"\"\"\n",
    "curr.execute(books_table)"
   ]
  },
  {
   "cell_type": "code",
   "execution_count": 110,
   "metadata": {},
   "outputs": [
    {
     "data": {
      "text/html": [
       "<div>\n",
       "<style scoped>\n",
       "    .dataframe tbody tr th:only-of-type {\n",
       "        vertical-align: middle;\n",
       "    }\n",
       "\n",
       "    .dataframe tbody tr th {\n",
       "        vertical-align: top;\n",
       "    }\n",
       "\n",
       "    .dataframe thead th {\n",
       "        text-align: right;\n",
       "    }\n",
       "</style>\n",
       "<table border=\"1\" class=\"dataframe\">\n",
       "  <thead>\n",
       "    <tr style=\"text-align: right;\">\n",
       "      <th></th>\n",
       "      <th>DrinkSkew</th>\n",
       "      <th>Item</th>\n",
       "      <th>Price</th>\n",
       "      <th>Category</th>\n",
       "      <th>Seasonality</th>\n",
       "    </tr>\n",
       "  </thead>\n",
       "  <tbody>\n",
       "    <tr>\n",
       "      <th>0</th>\n",
       "      <td>300</td>\n",
       "      <td>Small Espresso</td>\n",
       "      <td>2.75</td>\n",
       "      <td>Espresso Bar</td>\n",
       "      <td>Year-Round</td>\n",
       "    </tr>\n",
       "    <tr>\n",
       "      <th>1</th>\n",
       "      <td>301</td>\n",
       "      <td>Small Macchiato</td>\n",
       "      <td>3.00</td>\n",
       "      <td>Espresso Bar</td>\n",
       "      <td>Year-Round</td>\n",
       "    </tr>\n",
       "    <tr>\n",
       "      <th>2</th>\n",
       "      <td>302</td>\n",
       "      <td>Small Cortado</td>\n",
       "      <td>3.25</td>\n",
       "      <td>Espresso Bar</td>\n",
       "      <td>Year-Round</td>\n",
       "    </tr>\n",
       "    <tr>\n",
       "      <th>3</th>\n",
       "      <td>303</td>\n",
       "      <td>Small Cappuccino</td>\n",
       "      <td>3.50</td>\n",
       "      <td>Espresso Bar</td>\n",
       "      <td>Year-Round</td>\n",
       "    </tr>\n",
       "    <tr>\n",
       "      <th>4</th>\n",
       "      <td>304</td>\n",
       "      <td>Small Latte</td>\n",
       "      <td>3.75</td>\n",
       "      <td>Espresso Bar</td>\n",
       "      <td>Year-Round</td>\n",
       "    </tr>\n",
       "    <tr>\n",
       "      <th>...</th>\n",
       "      <td>...</td>\n",
       "      <td>...</td>\n",
       "      <td>...</td>\n",
       "      <td>...</td>\n",
       "      <td>...</td>\n",
       "    </tr>\n",
       "    <tr>\n",
       "      <th>84</th>\n",
       "      <td>384</td>\n",
       "      <td>Medium Apple Crisp Macchiato</td>\n",
       "      <td>5.00</td>\n",
       "      <td>Seasonal Drinks</td>\n",
       "      <td>Fall</td>\n",
       "    </tr>\n",
       "    <tr>\n",
       "      <th>85</th>\n",
       "      <td>385</td>\n",
       "      <td>Large Apple Crisp Macchiato</td>\n",
       "      <td>5.50</td>\n",
       "      <td>Seasonal Drinks</td>\n",
       "      <td>Fall</td>\n",
       "    </tr>\n",
       "    <tr>\n",
       "      <th>86</th>\n",
       "      <td>386</td>\n",
       "      <td>Small S’mores Latte</td>\n",
       "      <td>4.75</td>\n",
       "      <td>Seasonal Drinks</td>\n",
       "      <td>Summer</td>\n",
       "    </tr>\n",
       "    <tr>\n",
       "      <th>87</th>\n",
       "      <td>387</td>\n",
       "      <td>Medium S’mores Latte</td>\n",
       "      <td>5.25</td>\n",
       "      <td>Seasonal Drinks</td>\n",
       "      <td>Summer</td>\n",
       "    </tr>\n",
       "    <tr>\n",
       "      <th>88</th>\n",
       "      <td>388</td>\n",
       "      <td>Large S’mores Latte</td>\n",
       "      <td>5.75</td>\n",
       "      <td>Seasonal Drinks</td>\n",
       "      <td>Summer</td>\n",
       "    </tr>\n",
       "  </tbody>\n",
       "</table>\n",
       "<p>89 rows × 5 columns</p>\n",
       "</div>"
      ],
      "text/plain": [
       "    DrinkSkew                          Item  Price         Category  \\\n",
       "0         300                Small Espresso   2.75     Espresso Bar   \n",
       "1         301               Small Macchiato   3.00     Espresso Bar   \n",
       "2         302                 Small Cortado   3.25     Espresso Bar   \n",
       "3         303              Small Cappuccino   3.50     Espresso Bar   \n",
       "4         304                   Small Latte   3.75     Espresso Bar   \n",
       "..        ...                           ...    ...              ...   \n",
       "84        384  Medium Apple Crisp Macchiato   5.00  Seasonal Drinks   \n",
       "85        385   Large Apple Crisp Macchiato   5.50  Seasonal Drinks   \n",
       "86        386           Small S’mores Latte   4.75  Seasonal Drinks   \n",
       "87        387          Medium S’mores Latte   5.25  Seasonal Drinks   \n",
       "88        388           Large S’mores Latte   5.75  Seasonal Drinks   \n",
       "\n",
       "   Seasonality  \n",
       "0   Year-Round  \n",
       "1   Year-Round  \n",
       "2   Year-Round  \n",
       "3   Year-Round  \n",
       "4   Year-Round  \n",
       "..         ...  \n",
       "84        Fall  \n",
       "85        Fall  \n",
       "86      Summer  \n",
       "87      Summer  \n",
       "88      Summer  \n",
       "\n",
       "[89 rows x 5 columns]"
      ]
     },
     "execution_count": 110,
     "metadata": {},
     "output_type": "execute_result"
    }
   ],
   "source": [
    "# DRINKS\n",
    "drinks = pd.read_csv(\"/Users/emma/Desktop/database/final/tables/drink_table.csv\")\n",
    "drinks"
   ]
  },
  {
   "cell_type": "code",
   "execution_count": 112,
   "metadata": {},
   "outputs": [
    {
     "name": "stdout",
     "output_type": "stream",
     "text": [
      "name length:  32\n",
      "cat length:  15\n",
      "seasonality length:  10\n"
     ]
    }
   ],
   "source": [
    "print(\"name length: \", drinks['Item'].str.len().max())\n",
    "print(\"cat length: \", drinks['Category'].str.len().max())\n",
    "print(\"seasonality length: \", drinks['Seasonality'].str.len().max())\n"
   ]
  },
  {
   "cell_type": "code",
   "execution_count": 113,
   "metadata": {},
   "outputs": [
    {
     "data": {
      "text/plain": [
       "Index(['DrinkSkew', 'Item', 'Price', 'Category', 'Seasonality'], dtype='object')"
      ]
     },
     "execution_count": 113,
     "metadata": {},
     "output_type": "execute_result"
    }
   ],
   "source": [
    "drinks.columns"
   ]
  },
  {
   "cell_type": "code",
   "execution_count": 114,
   "metadata": {},
   "outputs": [],
   "source": [
    "drinks_table = \"\"\"\n",
    "CREATE TABLE Drinks(\n",
    "DrinkSkew   INT     NOT NULL,\n",
    "Item        VARCHAR(35),\n",
    "Price       DECIMAL(4, 2),\n",
    "Category    VARCHAR(20),\n",
    "Season      VARCHAR(20),\n",
    "PRIMARY KEY (DrinkSkew)\n",
    ");\n",
    "\"\"\"\n",
    "curr.execute(drinks_table)"
   ]
  },
  {
   "cell_type": "code",
   "execution_count": 117,
   "metadata": {},
   "outputs": [
    {
     "data": {
      "text/plain": [
       "Index(['PastrySkew', 'Pastry Name', 'Price', 'Sell_by_Date'], dtype='object')"
      ]
     },
     "execution_count": 117,
     "metadata": {},
     "output_type": "execute_result"
    }
   ],
   "source": [
    "pastries = pd.read_csv(\"/Users/emma/Desktop/database/final/tables/pastries_table.csv\")\n",
    "pastries.columns"
   ]
  },
  {
   "cell_type": "code",
   "execution_count": 121,
   "metadata": {},
   "outputs": [
    {
     "data": {
      "text/plain": [
       "33"
      ]
     },
     "execution_count": 121,
     "metadata": {},
     "output_type": "execute_result"
    }
   ],
   "source": [
    "pastries['Pastry Name'].str.len().max()"
   ]
  },
  {
   "cell_type": "code",
   "execution_count": 122,
   "metadata": {},
   "outputs": [],
   "source": [
    "curr.execute(\"DROP TABLE Pastries;\")"
   ]
  },
  {
   "cell_type": "code",
   "execution_count": 123,
   "metadata": {},
   "outputs": [],
   "source": [
    "pastries_table = \"\"\"\n",
    "CREATE TABLE Pastries (\n",
    "PastrySkew      INT     NOT NULL,\n",
    "PastryName      VARCHAR(40),\n",
    "Price           DECIMAL(4, 2),\n",
    "Sell_By_Date    DATE,\n",
    "PRIMARY KEY (PastrySkew)\n",
    ");\n",
    "\"\"\"\n",
    "curr.execute(pastries_table)"
   ]
  },
  {
   "cell_type": "code",
   "execution_count": 124,
   "metadata": {},
   "outputs": [],
   "source": [
    "pastries_insert = \"\"\"\n",
    "INSERT INTO Pastries\n",
    "VALUES (%s, %s, %s, %s)\n",
    "\"\"\"\n",
    "pastries = pd.read_csv(\"/Users/emma/Desktop/database/final/tables/pastries_table.csv\")\n",
    "pastriesList = [tuple(row) for row in pastries.values.tolist()]\n",
    "\n",
    "curr.executemany(pastries_insert, pastriesList)"
   ]
  },
  {
   "cell_type": "markdown",
   "metadata": {},
   "source": [
    "# Inserting Data"
   ]
  },
  {
   "cell_type": "code",
   "execution_count": 26,
   "metadata": {},
   "outputs": [
    {
     "data": {
      "text/plain": [
       "[(100, 'Plein Continental Breakfast', 'Breakfast', 11.5),\n",
       " (101, 'Breakfast Croissant Sandwich', 'Breakfast', 10.95),\n",
       " (102, 'House Made Biscuit Sandwich', 'Breakfast', 11.95),\n",
       " (103, 'Plein Omelet', 'Breakfast', 11.95),\n",
       " (104, 'Two Eggs Any Style', 'Breakfast', 11.95),\n",
       " (105, 'Mascarpone Stuffed Brioche French Toast', 'Breakfast', 9.95),\n",
       " (106, 'Veggie Burrito', 'Breakfast', 13.75),\n",
       " (107, 'Chorizo Burrito', 'Breakfast', 13.75),\n",
       " (108, 'Vegan Chicken Baguette', 'Salads, Sandwiches & Baguettes', 14.95),\n",
       " (109, 'Chef Salad', 'Salads, Sandwiches & Baguettes', 11.95),\n",
       " (110, 'Kale & Romaine Salad', 'Salads, Sandwiches & Baguettes', 11.95),\n",
       " (111, 'Tomato Avocado Salad', 'Salads, Sandwiches & Baguettes', 11.95),\n",
       " (112, 'Ham & Swiss Baguette', 'Salads, Sandwiches & Baguettes', 8.95),\n",
       " (113,\n",
       "  'Prosciutto & Manchego Baguette',\n",
       "  'Salads, Sandwiches & Baguettes',\n",
       "  10.5),\n",
       " (114,\n",
       "  'Goat Cheese & Sweet Pepper Baguette',\n",
       "  'Salads, Sandwiches & Baguettes',\n",
       "  10.5),\n",
       " (115, 'Smoked Turkey Sandwich', 'Salads, Sandwiches & Baguettes', 10.5),\n",
       " (116, 'Tuna Salad Sandwich', 'Salads, Sandwiches & Baguettes', 11.25),\n",
       " (117, 'Brioche Grilled Cheese', 'Salads, Sandwiches & Baguettes', 10.95),\n",
       " (118, 'Roasted Chicken Poblano', 'Salads, Sandwiches & Baguettes', 12.5),\n",
       " (119, 'Chipotle Chicken Club', 'Salads, Sandwiches & Baguettes', 14.5),\n",
       " (120, 'Vegetarian Chipotle Club', 'Salads, Sandwiches & Baguettes', 11.95),\n",
       " (121, 'Plein Grain Bowl', 'Tartines & Plein Bowls', 9.5),\n",
       " (122, 'Jalapeno Chicken Bowl', 'Tartines & Plein Bowls', 11.5),\n",
       " (123, 'Al Pastor Bowl', 'Tartines & Plein Bowls', 11.5),\n",
       " (124, 'Roasted Root Vegetables Tartine', 'Tartines & Plein Bowls', 9.5),\n",
       " (125, 'Savory Meatloaf Tartine', 'Tartines & Plein Bowls', 10.5)]"
      ]
     },
     "execution_count": 26,
     "metadata": {},
     "output_type": "execute_result"
    }
   ],
   "source": [
    "menu_insert = \"\"\"\n",
    "            INSERT INTO Menu\n",
    "            VALUES (%s, %s, %s, %s)\n",
    "            \"\"\"\n",
    "menu_csv = pd.read_csv(\"/Users/emma/Desktop/database/final/tables/menu_items_table.csv\", index_col=False)\n",
    "menuList = [tuple(row) for row in menu_csv.values.tolist()]\n",
    "\n",
    "menuList"
   ]
  },
  {
   "cell_type": "code",
   "execution_count": 27,
   "metadata": {},
   "outputs": [],
   "source": [
    "curr.executemany(menu_insert, menuList)\n",
    "conn.commit()"
   ]
  },
  {
   "cell_type": "code",
   "execution_count": 33,
   "metadata": {},
   "outputs": [],
   "source": [
    "# ingredients\n",
    "ingredients = pd.read_csv(\"/Users/emma/Desktop/database/final/tables/ingredients_table.csv\")\n",
    "ingredients_lst = [tuple(row) for row in ingredients.values.tolist()]\n",
    "ingredients_insert = \"\"\"\n",
    "            INSERT INTO Ingredients\n",
    "            VALUES (%s, %s)\n",
    "            \"\"\"\n",
    "curr.executemany(ingredients_insert, ingredients_lst)\n",
    "conn.commit()"
   ]
  },
  {
   "cell_type": "code",
   "execution_count": 38,
   "metadata": {},
   "outputs": [],
   "source": [
    "# recipes\n",
    "try:\n",
    "    recipes = pd.read_csv(\"/Users/emma/Desktop/database/final/tables/recipes_table.csv\")\n",
    "    recipes_lst = [tuple(row) for row in recipes.values.tolist()]\n",
    "    recipes_insert = \"\"\"\n",
    "                INSERT INTO Recipes\n",
    "                VALUES (%s, %s)\n",
    "                \"\"\"\n",
    "    curr.executemany(recipes_insert, recipes_lst)\n",
    "    conn.commit()\n",
    "except Exception as e:\n",
    "    print(f\"Errror inserting recipes data: {e}\")"
   ]
  },
  {
   "cell_type": "code",
   "execution_count": null,
   "metadata": {},
   "outputs": [],
   "source": [
    "books_insert = \"\"\"\n",
    "INSERT INTO Books\n",
    "VALUES (%s, %s, %s, %s, %s, %s, %s)\n",
    "\"\"\"\n",
    "\n",
    "books = pd.read_csv(\"/Users/emma/Desktop/database/final/tables/books.csv\")\n",
    "books['publication_date'] = books['publication_date'].apply(lambda x: datetime.strptime(x, \"%m/%d/%Y\").strftime(\"%Y-%m-%d\"))\n",
    "booksLst = [tuple(row) for row in books.values.tolist()]\n",
    "curr.executemany(books_insert, booksLst)\n",
    "conn.commit()"
   ]
  },
  {
   "cell_type": "code",
   "execution_count": null,
   "metadata": {},
   "outputs": [],
   "source": [
    "# drinks\n",
    "drink_insert = \"\"\"\n",
    "INSERT INTO Drinks\n",
    "VALUES (%s, %s, %s, %s, %s)\n",
    "\"\"\"\n",
    "\n",
    "drinks = pd.read_csv(\"/Users/emma/Desktop/database/final/tables/drink_table.csv\")\n",
    "drinkLst = [tuple(row) for row in drinks.values.tolist()]\n",
    "curr.executemany(drink_insert, drinkLst)\n",
    "conn.commit()"
   ]
  },
  {
   "cell_type": "code",
   "execution_count": 39,
   "metadata": {},
   "outputs": [
    {
     "name": "stdout",
     "output_type": "stream",
     "text": [
      "[('Ingredeints',), ('Ingredients',), ('Menu',), ('Recipes',)]\n"
     ]
    }
   ],
   "source": [
    "curr.execute(\"SHOW TABLES;\")\n",
    "print(curr.fetchall())"
   ]
  },
  {
   "cell_type": "markdown",
   "metadata": {},
   "source": [
    "# testing queries"
   ]
  },
  {
   "cell_type": "code",
   "execution_count": 42,
   "metadata": {},
   "outputs": [
    {
     "name": "stdout",
     "output_type": "stream",
     "text": [
      "[('Vegan Chicken Baguette', 'avocado'), ('Vegan Chicken Baguette', 'pesto'), ('Vegan Chicken Baguette', 'lettuce'), ('Vegan Chicken Baguette', 'tomato'), ('Vegan Chicken Baguette', 'pickled onion'), ('Vegan Chicken Baguette', 'mayo'), ('Vegan Chicken Baguette', 'baguette'), ('Vegan Chicken Baguette', 'vegan chicken')]\n"
     ]
    }
   ],
   "source": [
    "query = \"\"\"\n",
    "SELECT M.ItemName, I.IngredientName\n",
    "FROM Recipes as R\n",
    "JOIN Menu AS M ON R.MenuItemSkew = M.MenuItemSkew\n",
    "JOIN Ingredients AS I ON R.IngredientSkew = I.IngredientSkew\n",
    "WHERE M.ItemName = 'Vegan Chicken Baguette';\n",
    "\"\"\"\n",
    "\n",
    "curr.execute(query)\n",
    "print(curr.fetchall())"
   ]
  },
  {
   "cell_type": "code",
   "execution_count": 54,
   "metadata": {},
   "outputs": [
    {
     "name": "stdout",
     "output_type": "stream",
     "text": [
      "[('Al Pastor Bowl', 6), ('Breakfast Croissant Sandwich', 4), ('Brioche Grilled Cheese', 4), ('Chef Salad', 9), ('Chipotle Chicken Club', 7), ('Chorizo Burrito', 8), ('Goat Cheese & Sweet Pepper Baguette', 4), ('Ham & Swiss Baguette', 4), ('House Made Biscuit Sandwich', 5), ('Jalapeno Chicken Bowl', 4), ('Kale & Romaine Salad', 6), ('Mascarpone Stuffed Brioche French Toast', 3), ('Plein Continental Breakfast', 5), ('Plein Grain Bowl', 4), ('Plein Omelet', 7), ('Prosciutto & Manchego Baguette', 4), ('Roasted Chicken Poblano', 5), ('Roasted Root Vegetables Tartine', 5), ('Savory Meatloaf Tartine', 6), ('Smoked Turkey Sandwich', 6), ('Tomato Avocado Salad', 4), ('Tuna Salad Sandwich', 7), ('Two Eggs Any Style', 7), ('Vegan Chicken Baguette', 8), ('Vegetarian Chipotle Club', 6), ('Veggie Burrito', 8)]\n"
     ]
    }
   ],
   "source": [
    "query2 = \"\"\"\n",
    "SELECT M.ItemName, COUNT(I.IngredientName) AS IngredientCount\n",
    "FROM Recipes AS R\n",
    "JOIN Menu AS M ON R.MenuItemSkew = M.MenuItemSkew\n",
    "JOIN Ingredients AS I ON R.IngredientSkew = I.IngredientSkew\n",
    "GROUP BY M.ItemName\n",
    "ORDER BY M.ItemName;\n",
    "\"\"\"\n",
    "curr.execute(query)\n",
    "print(curr.fetchall())"
   ]
  },
  {
   "cell_type": "code",
   "execution_count": 67,
   "metadata": {},
   "outputs": [
    {
     "data": {
      "text/plain": [
       "[('Plein Continental Breakfast',),\n",
       " ('Breakfast Croissant Sandwich',),\n",
       " ('House Made Biscuit Sandwich',),\n",
       " ('Plein Omelet',),\n",
       " ('Two Eggs Any Style',),\n",
       " ('Mascarpone Stuffed Brioche French Toast',),\n",
       " ('Veggie Burrito',),\n",
       " ('Chorizo Burrito',)]"
      ]
     },
     "execution_count": 67,
     "metadata": {},
     "output_type": "execute_result"
    }
   ],
   "source": [
    "query3 = \"\"\"\n",
    "SELECT ItemName\n",
    "FROM Menu\n",
    "WHERE Category = 'Breakfast';\n",
    "\"\"\"\n",
    "curr.execute(query3)\n",
    "curr.fetchall()"
   ]
  },
  {
   "cell_type": "code",
   "execution_count": 125,
   "metadata": {},
   "outputs": [
    {
     "data": {
      "text/plain": [
       "[('Warhost of Vastmark (Wars of Light & Shadow  #3; Arc 2 - The Ships of Merior  #2)',),\n",
       " ('Naked Empire (Sword of Truth  #8)',),\n",
       " ('Tales from the Perilous Realm',),\n",
       " ('American Gods',),\n",
       " ('Going Postal (Discworld  #33)',),\n",
       " ('The Last Hero (Discworld #27; Rincewind #7)',),\n",
       " ('Fragile Things: Short Fictions and Wonders',),\n",
       " ('City of the Beasts (Eagle and Jaguar  #1)',),\n",
       " ('The Lion  the Witch and the Wardrobe (Chronicles of Narnia  #1)',),\n",
       " ('Abarat: Days of Magic  Nights of War',),\n",
       " ('The Neil Gaiman Audio Collection',),\n",
       " ('The Lion  the Witch and the Wardrobe (Chronicles of Narnia #2)',),\n",
       " ('El bosque de los pigmeos',),\n",
       " (\"The King of Attolia (The Queen's Thief  #3)\",),\n",
       " ('Good Omens: The Nice and Accurate Prophecies of Agnes Nutter  Witch',),\n",
       " ('The Color of Magic (Discworld  #1; Rincewind  #1)',),\n",
       " ('The Homecoming',),\n",
       " ('Confessions of an Ugly Stepsister',),\n",
       " ('Journey Into the Void (Sovereign Stone  #3)',),\n",
       " ('Carpe Jugulum (Discworld #23; Witches #6)',),\n",
       " ('Treasure Box',),\n",
       " ('The Wish Giver: Three Tales of Coven Tree',),\n",
       " ('Racso and the Rats of NIMH (Rats of NIMH  #2)',),\n",
       " (\"Darwin's Watch (The Science of Discworld  #3)\",),\n",
       " (\"Ronia  the Robber's Daughter\",),\n",
       " ('Five Children and It (Five Children #1)',),\n",
       " ('The Enchanted Castle',),\n",
       " ('The Eyre Affair (Thursday Next  #1)',),\n",
       " ('Crown Duel (Crown & Court #1-2)',),\n",
       " (\"A Robin McKinley Collection: Spindle's End  The Hero and the Crown and The Blue Sword (Folktales #1-3)\",),\n",
       " ('In the Land of Time: And Other Fantasy Tales',),\n",
       " ('Five Children and It',),\n",
       " ('The Book of Imaginary Beings',),\n",
       " ('The Hobbit',),\n",
       " (\"Trickster's Choice (Daughter of the Lioness  #1)\",),\n",
       " ('El cubo B (Artemis Fowl  #3)',),\n",
       " ('La venganza de Opal (Artemis Fowl  #4)',),\n",
       " ('Bones of the Moon (Answered Prayers  #1)',),\n",
       " ('The Fantasies of Robert A. Heinlein',),\n",
       " ('The Lake of Souls (Cirque du Freak #10)',),\n",
       " ('The Golden Key',),\n",
       " ('The Dark Tower (The Dark Tower #7)',),\n",
       " ('The Tolkien Reader',),\n",
       " ('First King of Shannara (The Original Shannara Trilogy #0)',),\n",
       " ('The Waterborn (Children of the Changeling  #1)',),\n",
       " ('Xanth: The Quest for Magic (Xanth  #1-3)',),\n",
       " (\"A Man Rides Through (Mordant's Need  #2)\",),\n",
       " ('In the Shadow of the Warlock Lord (The Sword of Shannara  #1)',),\n",
       " ('The Conquering Sword of Conan (Conan the Cimmerian  #3)',),\n",
       " ('The Heritage of Shannara (Heritage of Shannara  #1-4)',),\n",
       " ('A Caress of Twilight (Merry Gentry  #2)',),\n",
       " (\"Dragon's Fire (Pern  #19)\",),\n",
       " ('The Malloreon  Vol. 1: Guardians of the West / King of the Murgos / Demon Lord of Karanda (The Malloreon  #1-3)',),\n",
       " ('The Malloreon  Vol. 2: Sorceress of Darshiva / The Seeress of Kell (The Malloreon  #4-5)',),\n",
       " ('Jarka Ruus (High Druid of Shannara  #1)',),\n",
       " (\"Elphame's Choice (Partholon  #4)\",),\n",
       " ('Cast in Courtlight (Chronicles of Elantra  #2)',),\n",
       " ('The Fairy Godmother (Five Hundred Kingdoms  #1)',),\n",
       " ('Divine By Mistake (Partholon  #1)',),\n",
       " ('Cast in Shadow (Chronicles of Elantra  #1)',),\n",
       " ('Count Karlstein',),\n",
       " ('Young Warriors: Stories of Strength',),\n",
       " ('100 Great Fantasy Short Short Stories',),\n",
       " ('The Color of Her Panties (Xanth #15)',),\n",
       " ('Smoke and Mirrors: Short Fiction and Illusions',),\n",
       " ('Shards of a Broken Crown (The Serpentwar Saga  #4)',),\n",
       " (\"Morgoth's Ring (The History of Middle-Earth  #10)\",),\n",
       " ('The War of the Jewels (The History of Middle-Earth  #11)',),\n",
       " ('Black Hearts in Battersea (The Wolves Chronicles  #2)',),\n",
       " (\"Hart's Hope\",),\n",
       " ('Twelve Fair Kingdoms',),\n",
       " (\"Lyonesse: Suldrun's Garden (Lyonesse  #1)\",),\n",
       " ('The Magical Worlds of Lord of the Rings: The Amazing Myths  Legends and Facts Behind the Masterpiece',),\n",
       " ('Harry Potter and the Chamber of Secrets (Harry Potter  #2)',),\n",
       " (\"The Journey (Guardians of Ga'Hoole  #2)\",),\n",
       " (\"The Rescue (Guardians of Ga'Hoole  #3)\",),\n",
       " ('Harry Potter and the Prisoner of Azkaban (Harry Potter  #3)',),\n",
       " ('Lady Friday (The Keys to the Kingdom  #5)',),\n",
       " ('Inkheart (Inkworld  #1)',),\n",
       " ('Sky The Blue Fairy (Rainbow Magic  #5)',),\n",
       " ('The Snow Spider (Snow Spider Trilogy  #1)',),\n",
       " ('Ghosthunters and the Muddy Monster of Doom! (Ghosthunters  #4)',),\n",
       " ('Violet Makes A Splash (Sister Magic)',),\n",
       " ('Northern Lights (His Dark Materials  #1)',),\n",
       " ('Skellig (Skellig  #1)',),\n",
       " ('The Subtle Knife (His Dark Materials  #2)',),\n",
       " ('The Mirror of Merlin',),\n",
       " ('Tales from Earthsea (Earthsea Cycle  #5)',),\n",
       " ('The Outlaws of Sherwood',),\n",
       " (\"Dragon's Eye (Stonefort  #1)\",),\n",
       " ('Harrowing the Dragon',),\n",
       " ('Cygnet (Cygnet  #1-2)',),\n",
       " (\"Winter of Magic's Return\",),\n",
       " ('The Eyes of the Dragon',),\n",
       " ('The Waste Lands (The Dark Tower #3)',),\n",
       " (\"The Innkeeper's Song\",),\n",
       " (\"At Sword's Point (Knights of the Blood  #2)\",),\n",
       " ('First King of Shannara (Shannara Prequel)',),\n",
       " ('Once Said Darlene',),\n",
       " ('Strata',),\n",
       " ('Castle of Wizardry (The Belgariad  #4)',),\n",
       " ('Reaper Man (Discworld  #11; Death  #2)',),\n",
       " (\"Spindle's End\",),\n",
       " ('Elven Star (The Death Gate Cycle  #2)',),\n",
       " (\"Exile's Children (Exiles  #1)\",),\n",
       " ('Legacy of the Darksword (The Darksword  #4)',),\n",
       " ('The Smoke Thief (Drakon  #1)',),\n",
       " ('The Lord of the Rings',),\n",
       " ('The Return of the King (The Lord of the Rings  #3)',),\n",
       " ('The Curse of the Mistwraith (Wars of Light and Shadow  #1)',),\n",
       " ('Firedrake (Dragonrealm #1)',),\n",
       " ('Una arruga en el tiempo – A Wrinkle in Time',),\n",
       " ('Harry Potter Y La Piedra Filosofal (Harry Potter  #1)',),\n",
       " ('Guards! Guards! (Discworld  #8)',),\n",
       " ('Poems From The Hobbit',),\n",
       " ('The Cuckoo Tree (The Wolves Chronicles  #6)',),\n",
       " ('The Dream Stealer',),\n",
       " ('The Lord of the Rings: The Art of the Fellowship of the Ring',),\n",
       " ('The Hobbit  or There and Back Again',),\n",
       " (\"The J.R.R. Tolkien Companion and Guide  Volume 2: Reader's Guide\",),\n",
       " (\"The Maps of Tolkien's Middle-earth\",),\n",
       " ('Trip To The North Pole (The Polar Express: The Movie)',),\n",
       " ('The Lord of the Rings: Complete Visual Companion',),\n",
       " ('The Fellowship of the Ring (The Lord of the Rings  #1)',),\n",
       " ('The Return of the King (The Lord of the Rings  #3)',),\n",
       " (\"The Lord of the Rings: A Reader's Companion\",),\n",
       " ('Haroun and the Sea of Stories (Khalifa Brothers  #1)',),\n",
       " ('Legacy of Blood (Diablo  #1)',),\n",
       " ('Four & Twenty Blackbirds (Bardic Voices  #4)',),\n",
       " ('The Free Bards (Bardic Voices  #1-3)',),\n",
       " (\"Mary Stewart's Merlin Trilogy (Arthurian Saga  #1-3)\",),\n",
       " ('Below the Root',),\n",
       " ('The Great Good Thing (The Sylvie Cycle  #1)',),\n",
       " ('Silver on the Tree (The Dark is Rising  #5)',),\n",
       " (\"The Wizard's Apprentice (The Keepers  #2)\",),\n",
       " ('A Great and Terrible Beauty (Gemma Doyle #1)',),\n",
       " ('Lioness Rampant (Song of the Lioness  #4)',),\n",
       " ('Ilse Witch (Voyage of the Jerle Shannara #1)',),\n",
       " (\"Spirits White as Lightning (Bedlam's Bard  #5)\",),\n",
       " ('Moon of the Spider (Diablo  #4)',),\n",
       " ('Dragon Quest VIII: Journey of the Cursed King Official Strategy Guide',),\n",
       " ('Harry Potter and the Goblet of Fire (Harry Potter  #4)',),\n",
       " ('Harry Potter and the Half-Blood Prince (Harry Potter  #6)',),\n",
       " ('Stone of Farewell (Memory  Sorrow  and Thorn  #2)',),\n",
       " ('When True Night Falls (The Coldfire Trilogy  #2)',),\n",
       " ('The Sword of Angels (The Bronze Knight  #3)',),\n",
       " ('Fantasy Gone Wrong',),\n",
       " ('A Shadow in Summer (Long Price Quartet  #1)',),\n",
       " ('Child of the Prophecy (Sevenwaters  #3)',),\n",
       " ('A Cavern of Black Ice (Sword of Shadows  #1)',),\n",
       " ('The Dark Mirror (The Bridei Chronicles  #1)',),\n",
       " ('The Hidden Family (The Merchant Princes  #2)',),\n",
       " ('Peter and the Shadow Thieves (Peter and the Starcatchers  #2)',),\n",
       " ('The Meanest Doll in the World (Doll People  #2)',),\n",
       " ('The Eternity Code (Artemis Fowl  #3)',),\n",
       " ('The Sea of Monsters (Percy Jackson and the Olympians  #2)',),\n",
       " ('Time of the Twins (Dragonlance: Legends  #1)',),\n",
       " ('Love and War: Tales  Volume Three (Dragonlance: Tales)',),\n",
       " ('Dragons of the Highlord Skies (Dragonlance: The Lost Chronicles  #2)',),\n",
       " ('Taran Wanderer (The Chronicles of Prydain  #4)',),\n",
       " ('The High King (The Chronicles of Prydain  #5)',),\n",
       " ('The Foundling and Other Tales of Prydain',),\n",
       " ('The Subtle Knife (His Dark Materials  #2)',),\n",
       " ('Manna from Heaven',),\n",
       " (\"Hart's Hope\",),\n",
       " ('Drum Into Silence (Drums of Chaos  #3)',),\n",
       " (\"The Fourth Book of Lost Swords: Farslayer's Story (Lost Swords  #4)\",),\n",
       " ('Faun & Games (Xanth #21)',),\n",
       " ('Vale of the Vole (Xanth #10)',),\n",
       " ('Legends 2 (Legends 1  Volume 2of3)',),\n",
       " ('The Gate of Fire (Oath Of Empire Book Two)',),\n",
       " ('Imaginary Lands',),\n",
       " (\"A Gateway to Sindarin: A Grammar of an Elvish Language from J.R.R. Tolkien's Lord of the Rings\",),\n",
       " ('To Battle the Gods (Jalav  Amazon Warrior  #5)',),\n",
       " ('Arrows of the Queen (Heralds of Valdemar  #1)',),\n",
       " (\"Magic's Promise (Valdemar: Last Herald-Mage #2)\",),\n",
       " ('Wildfire (Drinker of Souls: Wild Magic  #2)',),\n",
       " ('Winds of Fury (Valdemar: Mage Winds #3)',),\n",
       " ('Storm Warning (Valdemar: Mage Storms #1)',),\n",
       " ('Storm Rising (Valdemar: Mage Storms  #2)',),\n",
       " ('Owlflight (Owl Mage Trilogy  #1)',),\n",
       " ('Earth  Air  Fire  Water (Tales from the Eternal Archives  #2)',),\n",
       " ('The Return of the King (The Lord of the Rings  #3)',),\n",
       " (\"The Dragon's Eye (Erec Rex  #1)\",),\n",
       " ('Wicked: The Grimmerie',),\n",
       " (\"Kushiel's Avatar (Phèdre's Trilogy  #3)\",),\n",
       " ('Tehanu (Earthsea Cycle  #4)',),\n",
       " ('Wolf-Speaker (Immortals  #2)',),\n",
       " ('The Boggart',),\n",
       " ('The Realms of the Gods (Immortals  #4)',),\n",
       " ('Here  There Be Dragons (Chronicles of the Imaginarium Geographica  #1)',),\n",
       " ('The Siren Song (Pirates of the Caribbean: Jack Sparrow  #2)',),\n",
       " ('The Sword of Cortés (Pirates of the Caribbean: Jack Sparrow  #4)',),\n",
       " ('Mistress of Magic (The Mists of Avalon  #1)',),\n",
       " ('The Eternal Champion (Eternal Champion  #1)',),\n",
       " ('Tanglewreck',),\n",
       " ('The Warrior Prophet (The Prince of Nothing  #2)',),\n",
       " ('Fifty-One Tales',),\n",
       " (\"Mistress Masham's Repose\",),\n",
       " ('Fablehaven (Fablehaven  #1)',),\n",
       " (\"Traitor's Knot (Wars of Light and Shadow  #7)\",),\n",
       " ('Demon Deathchase (Vampire Hunter D  #3)',),\n",
       " ('Inside Job',),\n",
       " (\"The Magicians' Guild (Black Magician Trilogy  #1)\",),\n",
       " ('Running with the Demon (Word & Void #1)',),\n",
       " ('The Flying Sorcerers: More Comic Tales of Fantasy',),\n",
       " ('The Line Between',),\n",
       " ('The Empire of Ice Cream',),\n",
       " ('Dragons of Winter Night (Dragonlance: Chronicles  #2)',),\n",
       " ('The Good Fairies of New York',),\n",
       " ('Faërie',),\n",
       " ('Neverwhere',),\n",
       " ('Memoranda',),\n",
       " ('Harry Potter ve Sırlar Odası (Harry Potter  #2)',),\n",
       " ('El catalejo lacado (La Materia Oscura  #3)',),\n",
       " ('Harry Potter y el misterio del príncipe (Harry Potter  #6)',),\n",
       " ('魔戒二部曲：雙城奇謀',),\n",
       " ('O Sobrinho do Mágico (As Crónicas de Nárnia  #1)',),\n",
       " ('O Cavalo e o Seu Rapaz (As Crónicas de Nárnia  #3)',),\n",
       " ('A Última Batalha (As Crónicas de Nárnia  #7)',)]"
      ]
     },
     "execution_count": 125,
     "metadata": {},
     "output_type": "execute_result"
    }
   ],
   "source": [
    "query4 = \"\"\"\n",
    "SELECT Title\n",
    "FROM Books\n",
    "WHERE Genre = 'Fantasy';\n",
    "\"\"\"\n",
    "curr.execute(query4)\n",
    "curr.fetchall()"
   ]
  },
  {
   "cell_type": "code",
   "execution_count": 126,
   "metadata": {},
   "outputs": [
    {
     "data": {
      "text/plain": [
       "Index(['DrinkSkew', 'Item', 'Price', 'Category', 'Seasonality'], dtype='object')"
      ]
     },
     "execution_count": 126,
     "metadata": {},
     "output_type": "execute_result"
    }
   ],
   "source": [
    "drinks.columns"
   ]
  },
  {
   "cell_type": "code",
   "execution_count": 128,
   "metadata": {},
   "outputs": [
    {
     "data": {
      "text/plain": [
       "[('Small Pumpkin Spice Latte', Decimal('4.50')),\n",
       " ('Medium Pumpkin Spice Latte', Decimal('5.00')),\n",
       " ('Large Pumpkin Spice Latte', Decimal('5.50')),\n",
       " ('Small Maple Spice Latte', Decimal('4.50')),\n",
       " ('Medium Maple Spice Latte', Decimal('5.00')),\n",
       " ('Large Maple Spice Latte', Decimal('5.50')),\n",
       " ('Small Toasted Marshmallow Latte', Decimal('4.75')),\n",
       " ('Medium Toasted Marshmallow Latte', Decimal('5.25')),\n",
       " ('Large Toasted Marshmallow Latte', Decimal('5.75')),\n",
       " ('Small Apple Crisp Macchiato', Decimal('4.50')),\n",
       " ('Medium Apple Crisp Macchiato', Decimal('5.00')),\n",
       " ('Large Apple Crisp Macchiato', Decimal('5.50'))]"
      ]
     },
     "execution_count": 128,
     "metadata": {},
     "output_type": "execute_result"
    }
   ],
   "source": [
    "query5 = \"\"\"\n",
    "SELECT Item, Price\n",
    "FROM Drinks\n",
    "WHERE Season = 'Fall';\n",
    "\"\"\"\n",
    "curr.execute(query5)\n",
    "curr.fetchall()"
   ]
  },
  {
   "cell_type": "code",
   "execution_count": 129,
   "metadata": {},
   "outputs": [
    {
     "ename": "DatabaseError",
     "evalue": "1008 (HY000): Can't drop database 'mycoffeeshop'; database doesn't exist",
     "output_type": "error",
     "traceback": [
      "\u001b[0;31m---------------------------------------------------------------------------\u001b[0m",
      "\u001b[0;31mDatabaseError\u001b[0m                             Traceback (most recent call last)",
      "\u001b[1;32m/Users/emma/Desktop/database/final/pyScriptsDB/dbSetupPractice.ipynb Cell 43\u001b[0m line \u001b[0;36m1\n\u001b[0;32m----> <a href='vscode-notebook-cell:/Users/emma/Desktop/database/final/pyScriptsDB/dbSetupPractice.ipynb#X12sZmlsZQ%3D%3D?line=0'>1</a>\u001b[0m curr\u001b[39m.\u001b[39mexecute(\u001b[39m\"\u001b[39m\u001b[39mDROP DATABASE MyCoffeeShop;\u001b[39m\u001b[39m\"\u001b[39m)\n",
      "File \u001b[0;32m~/anaconda3/lib/python3.11/site-packages/mysql/connector/cursor.py:537\u001b[0m, in \u001b[0;36mMySQLCursor.execute\u001b[0;34m(self, operation, params, multi)\u001b[0m\n\u001b[1;32m    534\u001b[0m     \u001b[39mreturn\u001b[39;00m \u001b[39mself\u001b[39m\u001b[39m.\u001b[39m_execute_iter(\u001b[39mself\u001b[39m\u001b[39m.\u001b[39m_connection\u001b[39m.\u001b[39mcmd_query_iter(stmt))\n\u001b[1;32m    536\u001b[0m \u001b[39mtry\u001b[39;00m:\n\u001b[0;32m--> 537\u001b[0m     \u001b[39mself\u001b[39m\u001b[39m.\u001b[39m_handle_result(\u001b[39mself\u001b[39m\u001b[39m.\u001b[39m_connection\u001b[39m.\u001b[39mcmd_query(stmt))\n\u001b[1;32m    538\u001b[0m \u001b[39mexcept\u001b[39;00m InterfaceError \u001b[39mas\u001b[39;00m err:\n\u001b[1;32m    539\u001b[0m     \u001b[39mif\u001b[39;00m \u001b[39mself\u001b[39m\u001b[39m.\u001b[39m_connection\u001b[39m.\u001b[39mhave_next_result:\n",
      "File \u001b[0;32m~/anaconda3/lib/python3.11/site-packages/mysql/connector/opentelemetry/context_propagation.py:97\u001b[0m, in \u001b[0;36mwith_context_propagation.<locals>.wrapper\u001b[0;34m(cnx, *args, **kwargs)\u001b[0m\n\u001b[1;32m     95\u001b[0m \u001b[39m# pylint: disable=possibly-used-before-assignment\u001b[39;00m\n\u001b[1;32m     96\u001b[0m \u001b[39mif\u001b[39;00m \u001b[39mnot\u001b[39;00m OTEL_ENABLED \u001b[39mor\u001b[39;00m \u001b[39mnot\u001b[39;00m cnx\u001b[39m.\u001b[39motel_context_propagation:\n\u001b[0;32m---> 97\u001b[0m     \u001b[39mreturn\u001b[39;00m method(cnx, \u001b[39m*\u001b[39margs, \u001b[39m*\u001b[39m\u001b[39m*\u001b[39mkwargs)\n\u001b[1;32m     99\u001b[0m current_span \u001b[39m=\u001b[39m trace\u001b[39m.\u001b[39mget_current_span()\n\u001b[1;32m    100\u001b[0m tp_header \u001b[39m=\u001b[39m \u001b[39mNone\u001b[39;00m\n",
      "File \u001b[0;32m~/anaconda3/lib/python3.11/site-packages/mysql/connector/connection.py:872\u001b[0m, in \u001b[0;36mMySQLConnection.cmd_query\u001b[0;34m(self, query, raw, buffered, raw_as_string)\u001b[0m\n\u001b[1;32m    870\u001b[0m query \u001b[39m=\u001b[39m \u001b[39mbytes\u001b[39m(packet)\n\u001b[1;32m    871\u001b[0m \u001b[39mtry\u001b[39;00m:\n\u001b[0;32m--> 872\u001b[0m     result \u001b[39m=\u001b[39m \u001b[39mself\u001b[39m\u001b[39m.\u001b[39m_handle_result(\u001b[39mself\u001b[39m\u001b[39m.\u001b[39m_send_cmd(ServerCmd\u001b[39m.\u001b[39mQUERY, query))\n\u001b[1;32m    873\u001b[0m \u001b[39mexcept\u001b[39;00m ProgrammingError \u001b[39mas\u001b[39;00m err:\n\u001b[1;32m    874\u001b[0m     \u001b[39mif\u001b[39;00m err\u001b[39m.\u001b[39merrno \u001b[39m==\u001b[39m \u001b[39m3948\u001b[39m \u001b[39mand\u001b[39;00m \u001b[39m\"\u001b[39m\u001b[39mLoading local data is disabled\u001b[39m\u001b[39m\"\u001b[39m \u001b[39min\u001b[39;00m err\u001b[39m.\u001b[39mmsg:\n",
      "File \u001b[0;32m~/anaconda3/lib/python3.11/site-packages/mysql/connector/connection.py:648\u001b[0m, in \u001b[0;36mMySQLConnection._handle_result\u001b[0;34m(self, packet)\u001b[0m\n\u001b[1;32m    646\u001b[0m     \u001b[39mreturn\u001b[39;00m \u001b[39mself\u001b[39m\u001b[39m.\u001b[39m_handle_eof(packet)\n\u001b[1;32m    647\u001b[0m \u001b[39mif\u001b[39;00m packet[\u001b[39m4\u001b[39m] \u001b[39m==\u001b[39m \u001b[39m255\u001b[39m:\n\u001b[0;32m--> 648\u001b[0m     \u001b[39mraise\u001b[39;00m get_exception(packet)\n\u001b[1;32m    650\u001b[0m \u001b[39m# We have a text result set\u001b[39;00m\n\u001b[1;32m    651\u001b[0m column_count \u001b[39m=\u001b[39m \u001b[39mself\u001b[39m\u001b[39m.\u001b[39m_protocol\u001b[39m.\u001b[39mparse_column_count(packet)\n",
      "\u001b[0;31mDatabaseError\u001b[0m: 1008 (HY000): Can't drop database 'mycoffeeshop'; database doesn't exist"
     ]
    }
   ],
   "source": [
    "curr.execute(\"DROP DATABASE MyCoffeeShop;\")"
   ]
  },
  {
   "cell_type": "code",
   "execution_count": 130,
   "metadata": {},
   "outputs": [
    {
     "data": {
      "text/plain": [
       "True"
      ]
     },
     "execution_count": 130,
     "metadata": {},
     "output_type": "execute_result"
    }
   ],
   "source": [
    "curr.close()"
   ]
  },
  {
   "cell_type": "code",
   "execution_count": 131,
   "metadata": {},
   "outputs": [],
   "source": [
    "conn.close()"
   ]
  },
  {
   "cell_type": "code",
   "execution_count": null,
   "metadata": {},
   "outputs": [],
   "source": []
  }
 ],
 "metadata": {
  "kernelspec": {
   "display_name": "base",
   "language": "python",
   "name": "python3"
  },
  "language_info": {
   "codemirror_mode": {
    "name": "ipython",
    "version": 3
   },
   "file_extension": ".py",
   "mimetype": "text/x-python",
   "name": "python",
   "nbconvert_exporter": "python",
   "pygments_lexer": "ipython3",
   "version": "3.11.5"
  }
 },
 "nbformat": 4,
 "nbformat_minor": 2
}
